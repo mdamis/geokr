{
 "cells": [
  {
   "cell_type": "markdown",
   "metadata": {
    "collapsed": true
   },
   "source": [
    "# Geokr"
   ]
  },
  {
   "cell_type": "markdown",
   "metadata": {},
   "source": [
    "## Get config"
   ]
  },
  {
   "cell_type": "code",
   "execution_count": null,
   "metadata": {
    "collapsed": false
   },
   "outputs": [],
   "source": [
    "import json\n",
    "\n",
    "with open('.config') as fp:\n",
    "    config = json.load(fp)"
   ]
  },
  {
   "cell_type": "markdown",
   "metadata": {},
   "source": [
    "## Flickr class"
   ]
  },
  {
   "cell_type": "code",
   "execution_count": null,
   "metadata": {
    "collapsed": true
   },
   "outputs": [],
   "source": [
    "import requests\n",
    "import json\n",
    "\n",
    "class Flickr:\n",
    "    request_baseurl = 'https://api.flickr.com/services/rest/'\n",
    "    jsonDecoder = json.JSONDecoder()\n",
    "    \n",
    "    def __init__(self, api_key):\n",
    "        self.api_key = api_key\n",
    "\n",
    "    def request(self, method, args):\n",
    "        url = self.request_baseurl + '?api_key=' + self.api_key + '&format=json&method=' + method + '&' + '&'.join([k+'='+str(v) for k,v in args.iteritems()])\n",
    "        return self.jsonDecoder.decode(requests.get(url).content[len(\"jsonFlickrApi(\"):-1])\n",
    "\n",
    "    def get_photo_url(farm_id, server_id, photo_id):\n",
    "        return \"https://farm\" + farm_id + \".staticflickr.com/\" + server_id + \"/\" + photo_id + \"_\" + secret + \".jpg\"\n"
   ]
  },
  {
   "cell_type": "markdown",
   "metadata": {},
   "source": [
    "## Get recents photos"
   ]
  },
  {
   "cell_type": "markdown",
   "metadata": {},
   "source": [
    "### Prepare requests"
   ]
  },
  {
   "cell_type": "code",
   "execution_count": null,
   "metadata": {
    "collapsed": false
   },
   "outputs": [],
   "source": [
    "flickr = Flickr(config['API_KEY'])\n",
    "data = []\n",
    "nb_page = 10\n",
    "method = 'flickr.photos.getRecent'\n",
    "args = {'per_page':500,'extras':'geo'}"
   ]
  },
  {
   "cell_type": "markdown",
   "metadata": {},
   "source": [
    "### Send and parse requests"
   ]
  },
  {
   "cell_type": "code",
   "execution_count": null,
   "metadata": {
    "collapsed": false
   },
   "outputs": [],
   "source": [
    "for page in range(nb_page):\n",
    "    args['page'] = page + 1\n",
    "    data += flickr.request(method, args)[\"photos\"][\"photo\"]"
   ]
  },
  {
   "cell_type": "markdown",
   "metadata": {},
   "source": [
    "### Fetch results"
   ]
  },
  {
   "cell_type": "code",
   "execution_count": null,
   "metadata": {
    "collapsed": false
   },
   "outputs": [],
   "source": [
    "print \"%d photos found\" % len(data)\n",
    "geotagged = []\n",
    "\n",
    "for photo in data:\n",
    "    if photo[\"longitude\"] != 0 or photo[\"latitude\"] != 0:\n",
    "        geotagged.append(photo)\n",
    "\n",
    "print \"%d geotagged photos found\" % len(geotagged)"
   ]
  },
  {
   "cell_type": "markdown",
   "metadata": {},
   "source": [
    "## Get geotagged photos"
   ]
  },
  {
   "cell_type": "markdown",
   "metadata": {},
   "source": [
    "### Prepare requests"
   ]
  },
  {
   "cell_type": "code",
   "execution_count": null,
   "metadata": {
    "collapsed": false
   },
   "outputs": [],
   "source": [
    "flickr = Flickr(config['API_KEY'])\n",
    "data = []\n",
    "nb_page = 8\n",
    "method = 'flickr.photos.search'\n",
    "args = {\n",
    "    'has_geo': 1,\n",
    "    'per_page': 250,\n",
    "    'extras': 'geo,date_taken',\n",
    "    'min_taken_date': '2015-01-01',\n",
    "    'max_taken_date': '2016-01-01'\n",
    "}"
   ]
  },
  {
   "cell_type": "markdown",
   "metadata": {},
   "source": [
    "### Send and parse requests"
   ]
  },
  {
   "cell_type": "code",
   "execution_count": null,
   "metadata": {
    "collapsed": false
   },
   "outputs": [],
   "source": [
    "import json\n",
    "\n",
    "for page in range(nb_page):\n",
    "    args['page'] = page + 1\n",
    "    data += flickr.request(method, args)[\"photos\"][\"photo\"]"
   ]
  },
  {
   "cell_type": "markdown",
   "metadata": {},
   "source": [
    "### Fetch results"
   ]
  },
  {
   "cell_type": "code",
   "execution_count": null,
   "metadata": {
    "collapsed": false
   },
   "outputs": [],
   "source": [
    "print \"%d photos found\" % len(data)"
   ]
  },
  {
   "cell_type": "markdown",
   "metadata": {},
   "source": [
    "## KMeans"
   ]
  },
  {
   "cell_type": "markdown",
   "metadata": {},
   "source": [
    "### Get the coordinates from data"
   ]
  },
  {
   "cell_type": "code",
   "execution_count": null,
   "metadata": {
    "collapsed": false
   },
   "outputs": [],
   "source": [
    "import numpy as np\n",
    "\n",
    "coordinates = []\n",
    "\n",
    "for photo in data:\n",
    "    coordinates += [[photo[\"latitude\"], photo[\"longitude\"]]]\n",
    "\n",
    "coordinates = np.array(coordinates, dtype=float)"
   ]
  },
  {
   "cell_type": "markdown",
   "metadata": {},
   "source": [
    "### Run the algorithm"
   ]
  },
  {
   "cell_type": "code",
   "execution_count": null,
   "metadata": {
    "collapsed": false
   },
   "outputs": [],
   "source": [
    "from scipy.cluster.vq import kmeans2\n",
    "\n",
    "k = 10\n",
    "i = 100\n",
    "\n",
    "centroids, closest_centroids = kmeans2(coordinates, k, iter=i)\n",
    "\n",
    "print centroids"
   ]
  }
 ],
 "metadata": {
  "kernelspec": {
   "display_name": "Python 2",
   "language": "python",
   "name": "python2"
  },
  "language_info": {
   "codemirror_mode": {
    "name": "ipython",
    "version": 2
   },
   "file_extension": ".py",
   "mimetype": "text/x-python",
   "name": "python",
   "nbconvert_exporter": "python",
   "pygments_lexer": "ipython2",
   "version": "2.7.11"
  }
 },
 "nbformat": 4,
 "nbformat_minor": 0
}
