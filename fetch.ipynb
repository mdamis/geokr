{
 "cells": [
  {
   "cell_type": "markdown",
   "metadata": {
    "collapsed": true
   },
   "source": [
    "# Geokr"
   ]
  },
  {
   "cell_type": "markdown",
   "metadata": {},
   "source": [
    "## Initialize"
   ]
  },
  {
   "cell_type": "code",
   "execution_count": 1,
   "metadata": {
    "collapsed": false
   },
   "outputs": [],
   "source": [
    "import json\n",
    "from flickr import Flickr\n",
    "\n",
    "with open('.config') as fp:\n",
    "    config = json.load(fp)\n",
    "\n",
    "flickr = Flickr(config['API_KEY'])"
   ]
  },
  {
   "cell_type": "markdown",
   "metadata": {},
   "source": [
    "## Get photos"
   ]
  },
  {
   "cell_type": "code",
   "execution_count": 2,
   "metadata": {
    "collapsed": true
   },
   "outputs": [],
   "source": [
    "data = flickr.loadDataFromFile('dataTest.json')"
   ]
  },
  {
   "cell_type": "markdown",
   "metadata": {},
   "source": [
    "# KMeans"
   ]
  },
  {
   "cell_type": "markdown",
   "metadata": {},
   "source": [
    "### Get the coordinates from data"
   ]
  },
  {
   "cell_type": "code",
   "execution_count": 3,
   "metadata": {
    "collapsed": false
   },
   "outputs": [
    {
     "name": "stdout",
     "output_type": "stream",
     "text": [
      "5115 coordonnées\n"
     ]
    }
   ],
   "source": [
    "import numpy as np\n",
    "\n",
    "coordinates = []\n",
    "\n",
    "for photo in data:\n",
    "    if photo[\"latitude\"] != 0 and photo[\"longitude\"] != 0:\n",
    "        coordinates += [[photo[\"latitude\"], photo[\"longitude\"]]]\n",
    "\n",
    "print \"%d coordonnées\" % len(coordinates)\n",
    "\n",
    "coordinates = np.array(coordinates, dtype=float)"
   ]
  },
  {
   "cell_type": "markdown",
   "metadata": {},
   "source": [
    "### Run the algorithm"
   ]
  },
  {
   "cell_type": "code",
   "execution_count": 4,
   "metadata": {
    "collapsed": false,
    "scrolled": true
   },
   "outputs": [
    {
     "name": "stdout",
     "output_type": "stream",
     "text": [
      "[[ -18.67735168  -54.46820623]\n",
      " [  17.87659034  117.73629765]\n",
      " [  38.56900717   37.39083828]\n",
      " [  49.43574345   13.02733825]\n",
      " [  36.8299695   -95.76969503]\n",
      " [  52.30711638   -0.95232249]\n",
      " [ -35.06135494  151.61211572]\n",
      " [  39.29014441   -3.32990646]\n",
      " [ -22.15918589   30.13857403]\n",
      " [  21.33716511   78.74518538]]\n"
     ]
    }
   ],
   "source": [
    "from scipy.cluster.vq import kmeans2\n",
    "\n",
    "k = 10\n",
    "i = 700\n",
    "\n",
    "centroids, closest_centroids = kmeans2(coordinates, k, iter=i)\n",
    "\n",
    "print centroids"
   ]
  },
  {
   "cell_type": "markdown",
   "metadata": {},
   "source": [
    "### Filter by density"
   ]
  },
  {
   "cell_type": "code",
   "execution_count": 5,
   "metadata": {
    "collapsed": false
   },
   "outputs": [
    {
     "name": "stdout",
     "output_type": "stream",
     "text": [
      "[619, 211, 753, 1774, 718, 158, 293, 37, 123, 429]\n",
      "[[ 49.43574345  13.02733825]]\n"
     ]
    }
   ],
   "source": [
    "densities = [0] * k\n",
    "\n",
    "for closest_centroid in closest_centroids:\n",
    "    densities[closest_centroid - 1] += 1\n",
    "    \n",
    "print densities\n",
    "\n",
    "filteredCentroids = centroids.tolist()\n",
    "\n",
    "for i in range(len(densities) - 1, -1, -1):\n",
    "    if densities[i] < 3 * len(data) / 100:\n",
    "        filteredCentroids.remove(filteredCentroids[i])\n",
    "\n",
    "filteredCentroids = np.array(filteredCentroids, dtype=float)\n",
    "print filteredCentroids"
   ]
  },
  {
   "cell_type": "markdown",
   "metadata": {},
   "source": [
    "## Plot"
   ]
  },
  {
   "cell_type": "code",
   "execution_count": 6,
   "metadata": {
    "collapsed": false,
    "scrolled": false
   },
   "outputs": [
    {
     "data": {
      "image/png": "[encoded data removed]",
      "text/plain": [
       "<matplotlib.figure.Figure at 0x131920bd0>"
      ]
     },
     "metadata": {},
     "output_type": "display_data"
    }
   ],
   "source": [
    "%matplotlib inline\n",
    "\n",
    "import matplotlib.pyplot as plt\n",
    "\n",
    "for centroid in centroids:\n",
    "    plt.scatter(centroid[0], centroid[1], c=np.random.rand(3,1))\n",
    "    \n",
    "plt.show()"
   ]
  },
  {
   "cell_type": "code",
   "execution_count": 7,
   "metadata": {
    "collapsed": false
   },
   "outputs": [
    {
     "data": {
      "text/html": [
       "<iframe srcdoc=\"<div style=&quot;width:100%;&quot;><div style=&quot;position:relative;width:100%;height:0;padding-bottom:60%;&quot;><iframe src=&quot;data:text/html;base64,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&quot; style=&quot;position:absolute;width:100%;height:100%;left:0;top:0;&quot;></iframe></div></div>\" style=\"width: 800px; height: 600px; border: none\"></iframe>"
      ],
      "text/plain": [
       "<IPython.core.display.HTML object>"
      ]
     },
     "execution_count": 7,
     "metadata": {},
     "output_type": "execute_result"
    }
   ],
   "source": [
    "import folium\n",
    "from IPython.display import HTML\n",
    "\n",
    "def inline_map(m, width=800, height=600):\n",
    "    \"\"\"Takes a folium instance and embed HTML.\"\"\"\n",
    "    \n",
    "    srcdoc = m._repr_html_().replace('\"', '&quot;')\n",
    "    embed = HTML('<iframe srcdoc=\"{}\" '\n",
    "                 'style=\"width: {}px; height: {}px; '\n",
    "                 'border: none\"></iframe>'.format(srcdoc, width, height))\n",
    "    return embed\n",
    "\n",
    "\n",
    "width, height = 800, 600\n",
    "radars = folium.Map(location=[40, -122], zoom_start=1,\n",
    "                    tiles='OpenStreetMap', width=width, height=height)\n",
    "\n",
    "for centroid in centroids:\n",
    "    folium.Marker([centroid[0], centroid[1]], ).add_to(radars) \n",
    "\n",
    "\n",
    "\n",
    "inline_map(radars)"
   ]
  },
  {
   "cell_type": "markdown",
   "metadata": {},
   "source": [
    "### DBSCAN"
   ]
  },
  {
   "cell_type": "code",
   "execution_count": 8,
   "metadata": {
    "collapsed": false
   },
   "outputs": [
    {
     "name": "stdout",
     "output_type": "stream",
     "text": [
      "Estimated number of clusters: 6\n",
      "Silhouette Coefficient: 0.632\n",
      "5115 labels\n",
      "5115 coordinates\n"
     ]
    }
   ],
   "source": [
    "from sklearn.cluster import DBSCAN\n",
    "from sklearn import metrics\n",
    "\n",
    "db = DBSCAN(eps=10,min_samples=40).fit(coordinates)\n",
    "\n",
    "# Number of clusters in labels, ignoring noise if present.\n",
    "n_clusters_ = len(set(db.labels_)) - (1 if -1 in db.labels_ else 0)\n",
    "\n",
    "print 'Estimated number of clusters: %d' % n_clusters_\n",
    "print \"Silhouette Coefficient: %0.3f\" % metrics.silhouette_score(coordinates, db.labels_)\n",
    "\n",
    "print \"%d labels\" % len(db.labels_)\n",
    "print \"%d coordinates\" % len(coordinates)"
   ]
  },
  {
   "cell_type": "code",
   "execution_count": 9,
   "metadata": {
    "collapsed": false
   },
   "outputs": [
    {
     "data": {
      "image/png": "[encoded data removed]",
      "text/plain": [
       "<matplotlib.figure.Figure at 0x1352ed250>"
      ]
     },
     "metadata": {},
     "output_type": "display_data"
    }
   ],
   "source": [
    "%matplotlib inline\n",
    "\n",
    "import matplotlib.pyplot as plt\n",
    "\n",
    "colors = [np.random.rand(3,1) for i in range(n_clusters_+1)]\n",
    "\n",
    "i = 0\n",
    "for label in db.labels_:\n",
    "    plt.scatter(coordinates[i][0], coordinates[i][1], c=colors[(label+1)])\n",
    "    i += 1\n",
    "    \n",
    "plt.show()"
   ]
  },
  {
   "cell_type": "code",
   "execution_count": 10,
   "metadata": {
    "collapsed": false
   },
   "outputs": [],
   "source": [
    "flickr = Flickr(config['API_KEY'])\n",
    "photos = []\n",
    "nb_page = 2\n",
    "method = 'flickr.photos.search'\n",
    "args = {\n",
    "    'has_geo': 1,\n",
    "    'per_page': 250,\n",
    "    'extras': 'description,license,date_upload,date_taken,owner_name,icon_server,original_format,last_update,geo,tags,machine_tags,o_dims,views,media'\n",
    "}\n",
    "\n",
    "import json\n",
    "\n",
    "for page in range(nb_page):\n",
    "    args['page'] = page + 1\n",
    "    photos += flickr.request(method, args)[\"photos\"][\"photo\"]"
   ]
  },
  {
   "cell_type": "code",
   "execution_count": 11,
   "metadata": {
    "collapsed": false
   },
   "outputs": [
    {
     "name": "stdout",
     "output_type": "stream",
     "text": [
      "                      centroid  count\n",
      "0  1010.61538462-785.769230769     13\n",
      "1  3502.33333333-5138.88888889      9\n",
      "2  5391.21428571-3652.07142857     14\n",
      "3  2993.94444444-2499.38888889     18\n",
      "4  2084.13636364-1260.45454545     22\n",
      "5                4417.4-3101.1     10\n"
     ]
    },
    {
     "name": "stderr",
     "output_type": "stream",
     "text": [
      "//anaconda/lib/python2.7/site-packages/matplotlib/__init__.py:872: UserWarning: axes.color_cycle is deprecated and replaced with axes.prop_cycle; please use the latter.\n",
      "  warnings.warn(self.msg_depr % (key, alt_key))\n",
      "A variable was mapped to y.\n",
      "    stat_bin sets the y value to the count of cases in each group.\n",
      "    The mapping to y was ignored.\n",
      "    If you want y to represent values in the data, use stat=\"bar\".\n"
     ]
    },
    {
     "data": {
      "image/png": "[encoded data removed]",
      "text/plain": [
       "<matplotlib.figure.Figure at 0x105b533d0>"
      ]
     },
     "metadata": {},
     "output_type": "display_data"
    },
    {
     "data": {
      "text/plain": [
       "<ggplot: (277966485)>"
      ]
     },
     "execution_count": 11,
     "metadata": {},
     "output_type": "execute_result"
    }
   ],
   "source": [
    "from ggplot import *\n",
    "import pandas as pd\n",
    "\n",
    "dims = [[photo['o_width'],photo['o_height']] for photo in photos if photo.has_key('o_width') and photo.has_key('o_height')]\n",
    "\n",
    "import numpy as np\n",
    "from scipy.cluster.vq import kmeans2\n",
    "\n",
    "k = 6\n",
    "i = 500\n",
    "\n",
    "centroids, closest_centroids = kmeans2(np.array(dims, dtype=float), k, iter=i)\n",
    "count = [len([c for c in closest_centroids if c == i]) for i in range(len(centroids))];\n",
    "\n",
    "df = pd.DataFrame({\n",
    "    \"count\" : count,\n",
    "    \"centroid\" : [str(c[0]) + \"-\" + str(c[1]) for c in centroids]\n",
    "})\n",
    "\n",
    "print df\n",
    "\n",
    "ggplot(df, aes(x='centroid',y='count')) + geom_bar() + ggtitle(\"Resolution\") + labs(\"Quantity\", \"centroids\")"
   ]
  },
  {
   "cell_type": "markdown",
   "metadata": {},
   "source": [
    "## Convert centroids to GeoJSON"
   ]
  },
  {
   "cell_type": "code",
   "execution_count": 12,
   "metadata": {
    "collapsed": false,
    "scrolled": true
   },
   "outputs": [
    {
     "name": "stdout",
     "output_type": "stream",
     "text": [
      "{\"type\": \"FeatureCollection\", \"features\": [{\"geometry\": {\"type\": \"Point\", \"coordinates\": [785.76923076923072, 1010.6153846153846]}, \"type\": \"Feature\", \"properties\": {}}, {\"geometry\": {\"type\": \"Point\", \"coordinates\": [5138.8888888888887, 3502.3333333333335]}, \"type\": \"Feature\", \"properties\": {}}, {\"geometry\": {\"type\": \"Point\", \"coordinates\": [3652.0714285714284, 5391.2142857142853]}, \"type\": \"Feature\", \"properties\": {}}, {\"geometry\": {\"type\": \"Point\", \"coordinates\": [2499.3888888888887, 2993.9444444444443]}, \"type\": \"Feature\", \"properties\": {}}, {\"geometry\": {\"type\": \"Point\", \"coordinates\": [1260.4545454545455, 2084.1363636363635]}, \"type\": \"Feature\", \"properties\": {}}, {\"geometry\": {\"type\": \"Point\", \"coordinates\": [3101.0999999999999, 4417.3999999999996]}, \"type\": \"Feature\", \"properties\": {}}]}\n"
     ]
    }
   ],
   "source": [
    "import json\n",
    "\n",
    "def getFeature(coordinates):\n",
    "    return {\n",
    "        \"type\": \"Feature\",\n",
    "        \"properties\" : {},\n",
    "        \"geometry\" : {\n",
    "            \"type\" : \"Point\",\n",
    "            \"coordinates\" : [coordinates[1], coordinates[0]]\n",
    "        }\n",
    "    }\n",
    "\n",
    "features = [getFeature(coordinates) for coordinates in centroids]\n",
    "\n",
    "geoJson = {\n",
    "    \"type\" : \"FeatureCollection\",\n",
    "    \"features\" : features\n",
    "}\n",
    "\n",
    "print json.dumps(geoJson)"
   ]
  },
  {
   "cell_type": "code",
   "execution_count": null,
   "metadata": {
    "collapsed": true
   },
   "outputs": [],
   "source": []
  }
 ],
 "metadata": {
  "kernelspec": {
   "display_name": "Python 2",
   "language": "python",
   "name": "python2"
  },
  "language_info": {
   "codemirror_mode": {
    "name": "ipython",
    "version": 2
   },
   "file_extension": ".py",
   "mimetype": "text/x-python",
   "name": "python",
   "nbconvert_exporter": "python",
   "pygments_lexer": "ipython2",
   "version": "2.7.11"
  }
 },
 "nbformat": 4,
 "nbformat_minor": 0
}
