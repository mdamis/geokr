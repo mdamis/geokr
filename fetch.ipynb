{
 "cells": [
  {
   "cell_type": "markdown",
   "metadata": {
    "collapsed": true
   },
   "source": [
    "# Geokr"
   ]
  },
  {
   "cell_type": "markdown",
   "metadata": {},
   "source": [
    "## Get config"
   ]
  },
  {
   "cell_type": "code",
   "execution_count": null,
   "metadata": {
    "collapsed": false
   },
   "outputs": [],
   "source": [
    "import json\n",
    "\n",
    "with open('.config') as fp:\n",
    "    config = json.load(fp)"
   ]
  },
  {
   "cell_type": "markdown",
   "metadata": {},
   "source": [
    "## Flickr class"
   ]
  },
  {
   "cell_type": "code",
   "execution_count": null,
   "metadata": {
    "collapsed": true
   },
   "outputs": [],
   "source": [
    "import requests\n",
    "import json\n",
    "\n",
    "class Flickr:\n",
    "    request_baseurl = 'https://api.flickr.com/services/rest/'\n",
    "    jsonDecoder = json.JSONDecoder()\n",
    "    \n",
    "    def __init__(self, api_key):\n",
    "        self.api_key = api_key\n",
    "\n",
    "    def request(self, method, args):\n",
    "        url = self.request_baseurl + '?api_key=' + self.api_key + '&format=json&method=' + method + '&' + '&'.join([k+'='+str(v) for k,v in args.iteritems()])\n",
    "        return self.jsonDecoder.decode(requests.get(url).content[len(\"jsonFlickrApi(\"):-1])\n",
    "\n",
    "    def get_photo_url(farm_id, server_id, photo_id):\n",
    "        return \"https://farm\" + farm_id + \".staticflickr.com/\" + server_id + \"/\" + photo_id + \"_\" + secret + \".jpg\"\n"
   ]
  },
  {
   "cell_type": "markdown",
   "metadata": {},
   "source": [
    "## Get recents photos"
   ]
  },
  {
   "cell_type": "markdown",
   "metadata": {},
   "source": [
    "### Prepare requests"
   ]
  },
  {
   "cell_type": "code",
   "execution_count": null,
   "metadata": {
    "collapsed": false
   },
   "outputs": [],
   "source": [
    "flickr = Flickr(config['API_KEY'])\n",
    "data = []\n",
    "nb_page = 10\n",
    "method = 'flickr.photos.getRecent'\n",
    "args = {'per_page':500,'extras':'geo'}"
   ]
  },
  {
   "cell_type": "markdown",
   "metadata": {},
   "source": [
    "### Send and parse requests"
   ]
  },
  {
   "cell_type": "code",
   "execution_count": null,
   "metadata": {
    "collapsed": false
   },
   "outputs": [],
   "source": [
    "for page in range(nb_page):\n",
    "    args['page'] = page + 1\n",
    "    data += flickr.request(method, args)[\"photos\"][\"photo\"]"
   ]
  },
  {
   "cell_type": "markdown",
   "metadata": {},
   "source": [
    "### Fetch results"
   ]
  },
  {
   "cell_type": "code",
   "execution_count": null,
   "metadata": {
    "collapsed": false
   },
   "outputs": [],
   "source": [
    "print \"%d photos found\" % len(data)\n",
    "geotagged = []\n",
    "\n",
    "for photo in data:\n",
    "    if photo[\"longitude\"] != 0 or photo[\"latitude\"] != 0:\n",
    "        geotagged.append(photo)\n",
    "\n",
    "print \"%d geotagged photos found\" % len(geotagged)"
   ]
  },
  {
   "cell_type": "markdown",
   "metadata": {},
   "source": [
    "## Get geotagged photos"
   ]
  },
  {
   "cell_type": "markdown",
   "metadata": {},
   "source": [
    "### Prepare requests"
   ]
  },
  {
   "cell_type": "code",
   "execution_count": null,
   "metadata": {
    "collapsed": false
   },
   "outputs": [],
   "source": [
    "flickr = Flickr(config['API_KEY'])\n",
    "data = []\n",
    "nb_page = 8\n",
    "method = 'flickr.photos.search'\n",
    "args = {\n",
    "    'has_geo': 1,\n",
    "    'per_page': 250,\n",
    "    'extras': 'geo,date_taken',\n",
    "    'min_taken_date': '2015-01-01',\n",
    "    'max_taken_date': '2016-01-01'\n",
    "}"
   ]
  },
  {
   "cell_type": "markdown",
   "metadata": {},
   "source": [
    "### Send and parse requests"
   ]
  },
  {
   "cell_type": "code",
   "execution_count": null,
   "metadata": {
    "collapsed": false
   },
   "outputs": [],
   "source": [
    "import json\n",
    "\n",
    "for page in range(nb_page):\n",
    "    args['page'] = page + 1\n",
    "    data += flickr.request(method, args)[\"photos\"][\"photo\"]"
   ]
  },
  {
   "cell_type": "markdown",
   "metadata": {},
   "source": [
    "### Fetch results"
   ]
  },
  {
   "cell_type": "code",
   "execution_count": null,
   "metadata": {
    "collapsed": false
   },
   "outputs": [],
   "source": [
    "print \"%d photos found\" % len(data)"
   ]
  },
  {
   "cell_type": "markdown",
   "metadata": {},
   "source": [
    "## KMeans"
   ]
  },
  {
   "cell_type": "markdown",
   "metadata": {},
   "source": [
    "### Get the coordinates from data"
   ]
  },
  {
   "cell_type": "code",
   "execution_count": null,
   "metadata": {
    "collapsed": false
   },
   "outputs": [],
   "source": [
    "import numpy as np\n",
    "\n",
    "coordinates = []\n",
    "\n",
    "for photo in data:\n",
    "    coordinates += [[photo[\"latitude\"], photo[\"longitude\"]]]\n",
    "\n",
    "coordinates = np.array(coordinates, dtype=float)"
   ]
  },
  {
   "cell_type": "markdown",
   "metadata": {},
   "source": [
    "### Run the algorithm"
   ]
  },
  {
   "cell_type": "code",
   "execution_count": null,
   "metadata": {
    "collapsed": false,
    "scrolled": true
   },
   "outputs": [],
   "source": [
    "from scipy.cluster.vq import kmeans2\n",
    "\n",
    "k = 15\n",
    "i = 500\n",
    "\n",
    "centroids, closest_centroids = kmeans2(coordinates, k, iter=i)\n",
    "\n",
    "print centroids"
   ]
  },
  {
   "cell_type": "markdown",
   "metadata": {},
   "source": [
    "## Plot"
   ]
  },
  {
   "cell_type": "code",
   "execution_count": null,
   "metadata": {
    "collapsed": false,
    "scrolled": false
   },
   "outputs": [],
   "source": [
    "%matplotlib inline\n",
    "\n",
    "import matplotlib.pyplot as plt\n",
    "\n",
    "for centroid in centroids:\n",
    "    plt.scatter(centroid[0], centroid[1], c=np.random.rand(3,1))\n",
    "    \n",
    "plt.show()"
   ]
  },
  {
   "cell_type": "code",
   "execution_count": null,
   "metadata": {
    "collapsed": false
   },
   "outputs": [],
   "source": [
    "import folium\n",
    "from IPython.display import HTML\n",
    "\n",
    "def inline_map(m, width=800, height=600):\n",
    "    \"\"\"Takes a folium instance and embed HTML.\"\"\"\n",
    "    \n",
    "    srcdoc = m._repr_html_().replace('\"', '&quot;')\n",
    "    embed = HTML('<iframe srcdoc=\"{}\" '\n",
    "                 'style=\"width: {}px; height: {}px; '\n",
    "                 'border: none\"></iframe>'.format(srcdoc, width, height))\n",
    "    return embed\n",
    "\n",
    "\n",
    "width, height = 800, 600\n",
    "radars = folium.Map(location=[40, -122], zoom_start=1,\n",
    "                    tiles='OpenStreetMap', width=width, height=height)\n",
    "\n",
    "for centroid in centroids:\n",
    "    folium.Marker([centroid[0], centroid[1]], ).add_to(radars) \n",
    "\n",
    "\n",
    "\n",
    "inline_map(radars)"
   ]
  },
  {
   "cell_type": "markdown",
   "metadata": {},
   "source": [
    "### DBSCAN"
   ]
  },
  {
   "cell_type": "code",
   "execution_count": null,
   "metadata": {
    "collapsed": false
   },
   "outputs": [],
   "source": [
    "from sklearn.cluster import DBSCAN\n",
    "from sklearn import metrics\n",
    "\n",
    "db = DBSCAN(eps=10,min_samples=40).fit(coordinates)\n",
    "\n",
    "# Number of clusters in labels, ignoring noise if present.\n",
    "n_clusters_ = len(set(db.labels_)) - (1 if -1 in db.labels_ else 0)\n",
    "\n",
    "print 'Estimated number of clusters: %d' % n_clusters_\n",
    "print \"Silhouette Coefficient: %0.3f\" % metrics.silhouette_score(coordinates, db.labels_)\n",
    "\n",
    "print \"%d labels\" % len(db.labels_)\n",
    "print \"%d coordinates\" % len(coordinates)"
   ]
  },
  {
   "cell_type": "code",
   "execution_count": null,
   "metadata": {
    "collapsed": false
   },
   "outputs": [],
   "source": [
    "%matplotlib inline\n",
    "\n",
    "import matplotlib.pyplot as plt\n",
    "\n",
    "colors = [np.random.rand(3,1) for i in range(n_clusters_+1)]\n",
    "\n",
    "i = 0\n",
    "for label in db.labels_:\n",
    "    plt.scatter(coordinates[i][0], coordinates[i][1], c=colors[(label+1)])\n",
    "    i += 1\n",
    "    \n",
    "plt.show()"
   ]
  },
  {
   "cell_type": "markdown",
   "metadata": {},
   "source": [
    "## Convert centroids to GeoJSON"
   ]
  },
  {
   "cell_type": "code",
   "execution_count": null,
   "metadata": {
    "collapsed": false,
    "scrolled": true
   },
   "outputs": [],
   "source": [
    "import json\n",
    "\n",
    "features = \"\"\n",
    "\n",
    "for i in range(len(centroids)):\n",
    "    geometry = {}\n",
    "    geometry[\"type\"] = \"Point\"\n",
    "    geometry[\"coordinates\"] = [centroids[i][1], centroids[i][0]]\n",
    "    features += \"{\\\"type\\\": \\\"Feature\\\", \\\"properties\\\": {}, \\\"geometry\\\": \" + json.dumps(geometry) + \"}\" \n",
    "    if i < len(centroids) - 1:\n",
    "        features += \", \"\n",
    "    \n",
    "print \"{\\\"type\\\" : \\\"FeatureCollection\\\", \\\"features\\\": [\" + features +\"]}\""
   ]
  },
  {
   "cell_type": "code",
   "execution_count": null,
   "metadata": {
    "collapsed": true
   },
   "outputs": [],
   "source": []
  }
 ],
 "metadata": {
  "kernelspec": {
   "display_name": "Python 2",
   "language": "python",
   "name": "python2"
  },
  "language_info": {
   "codemirror_mode": {
    "name": "ipython",
    "version": 2
   },
   "file_extension": ".py",
   "mimetype": "text/x-python",
   "name": "python",
   "nbconvert_exporter": "python",
   "pygments_lexer": "ipython2",
   "version": "2.7.11"
  }
 },
 "nbformat": 4,
 "nbformat_minor": 0
}
