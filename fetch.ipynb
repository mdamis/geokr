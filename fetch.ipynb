{
 "cells": [
  {
   "cell_type": "markdown",
   "metadata": {
    "collapsed": true
   },
   "source": [
    "# Geokr"
   ]
  },
  {
   "cell_type": "markdown",
   "metadata": {},
   "source": [
    "## Get config"
   ]
  },
  {
   "cell_type": "code",
   "execution_count": 1,
   "metadata": {
    "collapsed": false
   },
   "outputs": [],
   "source": [
    "import json\n",
    "\n",
    "with open('.config') as fp:\n",
    "    config = json.load(fp)"
   ]
  },
  {
   "cell_type": "markdown",
   "metadata": {},
   "source": [
    "## Flickr class"
   ]
  },
  {
   "cell_type": "code",
   "execution_count": 2,
   "metadata": {
    "collapsed": false
   },
   "outputs": [],
   "source": [
    "import requests\n",
    "import json\n",
    "import io\n",
    "\n",
    "'''\n",
    "This class allow sending http request on Flickr API. The Json result is automaticcally parsed.\n",
    "'''\n",
    "class Flickr:\n",
    "    request_baseurl = 'https://api.flickr.com/services/rest/'\n",
    "    jsonDecoder = json.JSONDecoder()\n",
    "    \n",
    "    '''\n",
    "    Flickr constructor\n",
    "    \n",
    "    @param stirng api_key - Your Flickr API key\n",
    "    '''\n",
    "    def __init__(self, api_key):\n",
    "        \n",
    "        \n",
    "        self.api_key = api_key\n",
    "\n",
    "    def request(self, method, args):\n",
    "        url = self.request_baseurl + '?api_key=' + self.api_key + '&format=json&method=' + method + '&' + '&'.join([k+'='+str(v) for k,v in args.iteritems()])\n",
    "        return self.jsonDecoder.decode(requests.get(url).content[len(\"jsonFlickrApi(\"):-1])\n",
    "    \n",
    "    def doRequest(self, offset, nb_page, method, args):\n",
    "        data=[]\n",
    "        for page in range(nb_page):\n",
    "            args['page'] = offset + page + 1\n",
    "            print \"fetching page number %d/%d (%d photos) \" % ((page+1), nb_page, len(data))\n",
    "            data += flickr.request(method, args)[\"photos\"][\"photo\"]\n",
    "            \n",
    "        print \"fetching end Total : %s photos requested\" % (len (data))\n",
    "        return data\n",
    "\n",
    "    def saveData(self, data, save_file):\n",
    "        with io.open(save_file, 'w', encoding='utf-8') as f:\n",
    "            f.write(unicode(json.dumps(data,indent=4, ensure_ascii=False)))\n",
    "        print '%s lines of data saved to %s' %(len(data), save_file)\n",
    "        \n",
    "    def loadDataFromFile(self, load_file):\n",
    "        with open(load_file) as photos_json:\n",
    "            return json.load(photos_json)\n",
    "\n",
    "flickr = Flickr(config['API_KEY'])"
   ]
  },
  {
   "cell_type": "markdown",
   "metadata": {},
   "source": [
    "## Get photos"
   ]
  },
  {
   "cell_type": "code",
   "execution_count": 3,
   "metadata": {
    "collapsed": true
   },
   "outputs": [],
   "source": [
    "data = flickr.loadDataFromFile('dataTest.json')"
   ]
  },
  {
   "cell_type": "markdown",
   "metadata": {},
   "source": [
    "# KMeans"
   ]
  },
  {
   "cell_type": "markdown",
   "metadata": {},
   "source": [
    "### Get the coordinates from data"
   ]
  },
  {
   "cell_type": "code",
   "execution_count": 4,
   "metadata": {
    "collapsed": false
   },
   "outputs": [
    {
     "name": "stdout",
     "output_type": "stream",
     "text": [
      "5115 coordonnées\n"
     ]
    }
   ],
   "source": [
    "import numpy as np\n",
    "\n",
    "coordinates = []\n",
    "\n",
    "for photo in data:\n",
    "    if photo[\"latitude\"] != 0 and photo[\"longitude\"] != 0:\n",
    "        coordinates += [[photo[\"latitude\"], photo[\"longitude\"]]]\n",
    "\n",
    "print \"%d coordonnées\" % len(coordinates)\n",
    "\n",
    "coordinates = np.array(coordinates, dtype=float)"
   ]
  },
  {
   "cell_type": "markdown",
   "metadata": {},
   "source": [
    "### Run the algorithm"
   ]
  },
  {
   "cell_type": "code",
   "execution_count": 5,
   "metadata": {
    "collapsed": false,
    "scrolled": true
   },
   "outputs": [
    {
     "name": "stdout",
     "output_type": "stream",
     "text": [
      "[[ -22.25782793  -52.29429998]\n",
      " [   7.72990515  108.36067313]\n",
      " [  34.49374389  -82.21316489]\n",
      " [ -35.14290435  151.8262919 ]\n",
      " [  38.89525791 -119.26850161]\n",
      " [  12.81623644   62.68351697]\n",
      " [  49.55895023   12.14365355]\n",
      " [  42.32399231   33.88836663]\n",
      " [  31.55496662  128.73594621]\n",
      " [  48.27810356   -1.93845393]]\n"
     ]
    }
   ],
   "source": [
    "from scipy.cluster.vq import kmeans2\n",
    "\n",
    "k = 10\n",
    "i = 500\n",
    "\n",
    "centroids, closest_centroids = kmeans2(coordinates, k, iter=i)\n",
    "\n",
    "print centroids"
   ]
  },
  {
   "cell_type": "markdown",
   "metadata": {},
   "source": [
    "### Filter by density"
   ]
  },
  {
   "cell_type": "code",
   "execution_count": 6,
   "metadata": {
    "collapsed": false
   },
   "outputs": [
    {
     "name": "stdout",
     "output_type": "stream",
     "text": [
      "[365, 1192, 157, 633, 173, 768, 206, 272, 971, 378]\n",
      "[]\n"
     ]
    }
   ],
   "source": [
    "densities = [0] * k\n",
    "\n",
    "for closest_centroid in closest_centroids:\n",
    "    densities[closest_centroid - 1] += 1\n",
    "    \n",
    "print densities\n",
    "\n",
    "filteredCentroids = centroids.tolist()\n",
    "\n",
    "for i in range(len(densities) - 1, -1, -1):\n",
    "    if densities[i] < 3 * len(data) / 100:\n",
    "        filteredCentroids.remove(filteredCentroids[i])\n",
    "\n",
    "filteredCentroids = np.array(filteredCentroids, dtype=float)\n",
    "print filteredCentroids"
   ]
  },
  {
   "cell_type": "markdown",
   "metadata": {},
   "source": [
    "## Plot"
   ]
  },
  {
   "cell_type": "code",
   "execution_count": 7,
   "metadata": {
    "collapsed": false,
    "scrolled": false
   },
   "outputs": [
    {
     "data": {
      "image/png": "[encoded data removed]",
      "text/plain": [
       "<matplotlib.figure.Figure at 0x1320b2c10>"
      ]
     },
     "metadata": {},
     "output_type": "display_data"
    }
   ],
   "source": [
    "%matplotlib inline\n",
    "\n",
    "import matplotlib.pyplot as plt\n",
    "\n",
    "for centroid in centroids:\n",
    "    plt.scatter(centroid[0], centroid[1], c=np.random.rand(3,1))\n",
    "    \n",
    "plt.show()"
   ]
  },
  {
   "cell_type": "code",
   "execution_count": 8,
   "metadata": {
    "collapsed": false
   },
   "outputs": [
    {
     "data": {
      "text/html": [
       "<iframe srcdoc=\"<div style=&quot;width:100%;&quot;><div style=&quot;position:relative;width:100%;height:0;padding-bottom:60%;&quot;><iframe src=&quot;data:text/html;base64,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&quot; style=&quot;position:absolute;width:100%;height:100%;left:0;top:0;&quot;></iframe></div></div>\" style=\"width: 800px; height: 600px; border: none\"></iframe>"
      ],
      "text/plain": [
       "<IPython.core.display.HTML object>"
      ]
     },
     "execution_count": 8,
     "metadata": {},
     "output_type": "execute_result"
    }
   ],
   "source": [
    "import folium\n",
    "from IPython.display import HTML\n",
    "\n",
    "def inline_map(m, width=800, height=600):\n",
    "    \"\"\"Takes a folium instance and embed HTML.\"\"\"\n",
    "    \n",
    "    srcdoc = m._repr_html_().replace('\"', '&quot;')\n",
    "    embed = HTML('<iframe srcdoc=\"{}\" '\n",
    "                 'style=\"width: {}px; height: {}px; '\n",
    "                 'border: none\"></iframe>'.format(srcdoc, width, height))\n",
    "    return embed\n",
    "\n",
    "\n",
    "width, height = 800, 600\n",
    "radars = folium.Map(location=[40, -122], zoom_start=1,\n",
    "                    tiles='OpenStreetMap', width=width, height=height)\n",
    "\n",
    "for centroid in centroids:\n",
    "    folium.Marker([centroid[0], centroid[1]], ).add_to(radars) \n",
    "\n",
    "\n",
    "\n",
    "inline_map(radars)"
   ]
  },
  {
   "cell_type": "markdown",
   "metadata": {},
   "source": [
    "### DBSCAN"
   ]
  },
  {
   "cell_type": "code",
   "execution_count": 9,
   "metadata": {
    "collapsed": false
   },
   "outputs": [
    {
     "name": "stdout",
     "output_type": "stream",
     "text": [
      "Estimated number of clusters: 6\n",
      "Silhouette Coefficient: 0.632\n",
      "5115 labels\n",
      "5115 coordinates\n"
     ]
    }
   ],
   "source": [
    "from sklearn.cluster import DBSCAN\n",
    "from sklearn import metrics\n",
    "\n",
    "db = DBSCAN(eps=10,min_samples=40).fit(coordinates)\n",
    "\n",
    "# Number of clusters in labels, ignoring noise if present.\n",
    "n_clusters_ = len(set(db.labels_)) - (1 if -1 in db.labels_ else 0)\n",
    "\n",
    "print 'Estimated number of clusters: %d' % n_clusters_\n",
    "print \"Silhouette Coefficient: %0.3f\" % metrics.silhouette_score(coordinates, db.labels_)\n",
    "\n",
    "print \"%d labels\" % len(db.labels_)\n",
    "print \"%d coordinates\" % len(coordinates)"
   ]
  },
  {
   "cell_type": "code",
   "execution_count": 10,
   "metadata": {
    "collapsed": false
   },
   "outputs": [
    {
     "data": {
      "image/png": "[encoded data removed]",
      "text/plain": [
       "<matplotlib.figure.Figure at 0x13565e250>"
      ]
     },
     "metadata": {},
     "output_type": "display_data"
    }
   ],
   "source": [
    "%matplotlib inline\n",
    "\n",
    "import matplotlib.pyplot as plt\n",
    "\n",
    "colors = [np.random.rand(3,1) for i in range(n_clusters_+1)]\n",
    "\n",
    "i = 0\n",
    "for label in db.labels_:\n",
    "    plt.scatter(coordinates[i][0], coordinates[i][1], c=colors[(label+1)])\n",
    "    i += 1\n",
    "    \n",
    "plt.show()"
   ]
  },
  {
   "cell_type": "code",
   "execution_count": 11,
   "metadata": {
    "collapsed": false
   },
   "outputs": [],
   "source": [
    "flickr = Flickr(config['API_KEY'])\n",
    "photos = []\n",
    "nb_page = 2\n",
    "method = 'flickr.photos.search'\n",
    "args = {\n",
    "    'has_geo': 1,\n",
    "    'per_page': 250,\n",
    "    'extras': 'description,license,date_upload,date_taken,owner_name,icon_server,original_format,last_update,geo,tags,machine_tags,o_dims,views,media'\n",
    "}\n",
    "\n",
    "import json\n",
    "\n",
    "for page in range(nb_page):\n",
    "    args['page'] = page + 1\n",
    "    photos += flickr.request(method, args)[\"photos\"][\"photo\"]"
   ]
  },
  {
   "cell_type": "code",
   "execution_count": 12,
   "metadata": {
    "collapsed": false
   },
   "outputs": [
    {
     "name": "stdout",
     "output_type": "stream",
     "text": [
      "                      centroid  count\n",
      "0  3179.46666667-4508.66666667     15\n",
      "1              5733.75-3670.25     12\n",
      "2  4315.54878049-2885.26829268     82\n",
      "3  1465.73913043-998.456521739     46\n",
      "4  2280.97777778-2279.33333333     45\n",
      "5          3299.875-2462.21875     64\n"
     ]
    },
    {
     "name": "stderr",
     "output_type": "stream",
     "text": [
      "//anaconda/lib/python2.7/site-packages/matplotlib/__init__.py:872: UserWarning: axes.color_cycle is deprecated and replaced with axes.prop_cycle; please use the latter.\n",
      "  warnings.warn(self.msg_depr % (key, alt_key))\n",
      "A variable was mapped to y.\n",
      "    stat_bin sets the y value to the count of cases in each group.\n",
      "    The mapping to y was ignored.\n",
      "    If you want y to represent values in the data, use stat=\"bar\".\n"
     ]
    },
    {
     "data": {
      "image/png": "[encoded data removed]",
      "text/plain": [
       "<matplotlib.figure.Figure at 0x104295f90>"
      ]
     },
     "metadata": {},
     "output_type": "display_data"
    },
    {
     "data": {
      "text/plain": [
       "<ggplot: (277892441)>"
      ]
     },
     "execution_count": 12,
     "metadata": {},
     "output_type": "execute_result"
    }
   ],
   "source": [
    "from ggplot import *\n",
    "import pandas as pd\n",
    "\n",
    "dims = [[photo['o_width'],photo['o_height']] for photo in photos if photo.has_key('o_width') and photo.has_key('o_height')]\n",
    "\n",
    "import numpy as np\n",
    "from scipy.cluster.vq import kmeans2\n",
    "\n",
    "k = 6\n",
    "i = 500\n",
    "\n",
    "centroids, closest_centroids = kmeans2(np.array(dims, dtype=float), k, iter=i)\n",
    "count = [len([c for c in closest_centroids if c == i]) for i in range(len(centroids))];\n",
    "\n",
    "df = pd.DataFrame({\n",
    "    \"count\" : count,\n",
    "    \"centroid\" : [str(c[0]) + \"-\" + str(c[1]) for c in centroids]\n",
    "})\n",
    "\n",
    "print df\n",
    "\n",
    "ggplot(df, aes(x='centroid',y='count')) + geom_bar() + ggtitle(\"Resolution\") + labs(\"Quantity\", \"centroids\")"
   ]
  },
  {
   "cell_type": "markdown",
   "metadata": {},
   "source": [
    "## Convert centroids to GeoJSON"
   ]
  },
  {
   "cell_type": "code",
   "execution_count": 13,
   "metadata": {
    "collapsed": false,
    "scrolled": true
   },
   "outputs": [
    {
     "name": "stdout",
     "output_type": "stream",
     "text": [
      "{\"type\": \"FeatureCollection\", \"features\": [{\"geometry\": {\"type\": \"Point\", \"coordinates\": [4508.666666666667, 3179.4666666666667]}, \"type\": \"Feature\", \"properties\": {}}, {\"geometry\": {\"type\": \"Point\", \"coordinates\": [3670.25, 5733.75]}, \"type\": \"Feature\", \"properties\": {}}, {\"geometry\": {\"type\": \"Point\", \"coordinates\": [2885.268292682927, 4315.5487804878048]}, \"type\": \"Feature\", \"properties\": {}}, {\"geometry\": {\"type\": \"Point\", \"coordinates\": [998.45652173913038, 1465.7391304347825]}, \"type\": \"Feature\", \"properties\": {}}, {\"geometry\": {\"type\": \"Point\", \"coordinates\": [2279.3333333333335, 2280.9777777777776]}, \"type\": \"Feature\", \"properties\": {}}, {\"geometry\": {\"type\": \"Point\", \"coordinates\": [2462.21875, 3299.875]}, \"type\": \"Feature\", \"properties\": {}}]}\n"
     ]
    }
   ],
   "source": [
    "import json\n",
    "\n",
    "def getFeature(coordinates):\n",
    "    return {\n",
    "        \"type\": \"Feature\",\n",
    "        \"properties\" : {},\n",
    "        \"geometry\" : {\n",
    "            \"type\" : \"Point\",\n",
    "            \"coordinates\" : [coordinates[1], coordinates[0]]\n",
    "        }\n",
    "    }\n",
    "\n",
    "features = [getFeature(coordinates) for coordinates in centroids]\n",
    "\n",
    "geoJson = {\n",
    "    \"type\" : \"FeatureCollection\",\n",
    "    \"features\" : features\n",
    "}\n",
    "\n",
    "print json.dumps(geoJson)"
   ]
  },
  {
   "cell_type": "code",
   "execution_count": null,
   "metadata": {
    "collapsed": true
   },
   "outputs": [],
   "source": []
  }
 ],
 "metadata": {
  "kernelspec": {
   "display_name": "Python 2",
   "language": "python",
   "name": "python2"
  },
  "language_info": {
   "codemirror_mode": {
    "name": "ipython",
    "version": 2
   },
   "file_extension": ".py",
   "mimetype": "text/x-python",
   "name": "python",
   "nbconvert_exporter": "python",
   "pygments_lexer": "ipython2",
   "version": "2.7.11"
  }
 },
 "nbformat": 4,
 "nbformat_minor": 0
}
