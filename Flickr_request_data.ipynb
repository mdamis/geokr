{
 "cells": [
  {
   "cell_type": "code",
   "execution_count": null,
   "metadata": {
    "collapsed": true
   },
   "outputs": [],
   "source": [
    "import json\n",
    "\n",
    "with open('.config') as fp:\n",
    "    config = json.load(fp)"
   ]
  },
  {
   "cell_type": "code",
   "execution_count": null,
   "metadata": {
    "collapsed": true
   },
   "outputs": [],
   "source": [
    "import requests\n",
    "import json\n",
    "import io\n",
    "\n",
    "'''\n",
    "This class allow sending http request on Flickr API. The Json result is automaticcally parsed.\n",
    "'''\n",
    "class Flickr:\n",
    "    request_baseurl = 'https://api.flickr.com/services/rest/'\n",
    "    jsonDecoder = json.JSONDecoder()\n",
    "    \n",
    "    '''\n",
    "    Flickr constructor\n",
    "    \n",
    "    @param stirng api_key - Your Flickr API key\n",
    "    '''\n",
    "    def __init__(self, api_key):\n",
    "        \n",
    "        \n",
    "        self.api_key = api_key\n",
    "\n",
    "    def request(self, method, args):\n",
    "        url = self.request_baseurl + '?api_key=' + self.api_key + '&format=json&method=' + method + '&' + '&'.join([k+'='+str(v) for k,v in args.iteritems()])\n",
    "        return self.jsonDecoder.decode(requests.get(url).content[len(\"jsonFlickrApi(\"):-1])\n",
    "    \n",
    "    def doRequest(self, nb_page, method, args):\n",
    "     data=[]\n",
    "     for page in range(nb_page):\n",
    "      args['page'] = page + 1\n",
    "      print \"fetching page number %d/%d (%d photos) \" % ((page+1), nb_page, len(data))\n",
    "      data += flickr.request(method, args)[\"photos\"][\"photo\"]\n",
    "    \n",
    "     print \"fetching end Total : %s photos requested\" % (len (data))\n",
    "     return data\n",
    "\n",
    "    def saveData(self, data, save_file):\n",
    "     with io.open(save_file, 'w', encoding='utf-8') as f:\n",
    "      f.write(unicode(json.dumps(data,indent=4, ensure_ascii=False)))\n",
    "     print '%s lines of data saved to %s' %(len(data), save_file)\n",
    "        \n",
    "    def loadDataFromFile(self, load_file):\n",
    "     with open(load_file) as photos_json:\n",
    "      return json.load(photos_json)\n"
   ]
  },
  {
   "cell_type": "code",
   "execution_count": null,
   "metadata": {
    "collapsed": true
   },
   "outputs": [],
   "source": [
    "flickr = Flickr(config['API_KEY'])\n",
    "data = []\n",
    "nb_page = 3\n",
    "method = 'flickr.photos.getRecent'\n",
    "args = {'per_page':500,'extras':'description, license, date_upload, date_taken, owner_name, icon_server, original_format, last_update, geo, tags, machine_tags, o_dims, views, media, path_alias, url_sq, url_t, url_s, url_q, url_m, url_n, url_z, url_c, url_l, url_o'}"
   ]
  },
  {
   "cell_type": "code",
   "execution_count": null,
   "metadata": {
    "collapsed": false
   },
   "outputs": [],
   "source": [
    "data = flickr.doRequest(nb_page, method, args)"
   ]
  },
  {
   "cell_type": "code",
   "execution_count": null,
   "metadata": {
    "collapsed": false
   },
   "outputs": [],
   "source": [
    "flickr.saveData(data, 'dataTest.json')\n",
    "photos = flickr.loadDataFromFile('dataTest.json')"
   ]
  },
  {
   "cell_type": "code",
   "execution_count": null,
   "metadata": {
    "collapsed": false
   },
   "outputs": [],
   "source": [
    "len(photos)"
   ]
  },
  {
   "cell_type": "code",
   "execution_count": null,
   "metadata": {
    "collapsed": true
   },
   "outputs": [],
   "source": []
  }
 ],
 "metadata": {
  "kernelspec": {
   "display_name": "Python 2",
   "language": "python",
   "name": "python2"
  },
  "language_info": {
   "codemirror_mode": {
    "name": "ipython",
    "version": 2
   },
   "file_extension": ".py",
   "mimetype": "text/x-python",
   "name": "python",
   "nbconvert_exporter": "python",
   "pygments_lexer": "ipython2",
   "version": "2.7.11"
  }
 },
 "nbformat": 4,
 "nbformat_minor": 0
}
